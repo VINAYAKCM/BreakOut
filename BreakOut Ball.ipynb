{
 "cells": [
  {
   "cell_type": "markdown",
   "id": "6e6b16ce",
   "metadata": {},
   "source": [
    "### IMPORT DEPENDENCIES"
   ]
  },
  {
   "cell_type": "code",
   "execution_count": null,
   "id": "b060366e",
   "metadata": {},
   "outputs": [],
   "source": [
    "#Install all dependencies\n",
    "!pip3 install torch torchvision"
   ]
  },
  {
   "cell_type": "code",
   "execution_count": null,
   "id": "57c709fd",
   "metadata": {},
   "outputs": [],
   "source": [
    "!pip show gymnasium ale-py"
   ]
  },
  {
   "cell_type": "code",
   "execution_count": null,
   "id": "c90d9e39",
   "metadata": {},
   "outputs": [],
   "source": [
    "import gym\n",
    "from stable_baselines3 import A2C\n",
    "#Allows to speed up training by running it in multiple environments\n",
    "from stable_baselines3.common.vec_env import VecFrameStack\n",
    "from stable_baselines3.common.evaluation import evaluate_policy\n",
    "from stable_baselines3.common.env_util import make_atari_env\n",
    "import os"
   ]
  },
  {
   "cell_type": "markdown",
   "id": "09658032",
   "metadata": {},
   "source": [
    "### TEST ENVIRONMENT"
   ]
  },
  {
   "cell_type": "code",
   "execution_count": null,
   "id": "b41d3908",
   "metadata": {},
   "outputs": [],
   "source": [
    "# Inorder to use atari environments we need to install:\n",
    "# http://www.atarimania.com/roms/Roms.rar"
   ]
  },
  {
   "cell_type": "code",
   "execution_count": null,
   "id": "40115592",
   "metadata": {},
   "outputs": [],
   "source": [
    "#!python -m atari_py_import_roms .\\Roms\\ROMS"
   ]
  },
  {
   "cell_type": "code",
   "execution_count": null,
   "id": "86b93fd4",
   "metadata": {},
   "outputs": [],
   "source": [
    "environment_name = \"ALE/Breakout-v4\""
   ]
  },
  {
   "cell_type": "code",
   "execution_count": null,
   "id": "d3f6363a",
   "metadata": {},
   "outputs": [],
   "source": [
    "env = gym.make(environment_name, render_mode = \"human\", obs_type = \"rgb\")"
   ]
  },
  {
   "cell_type": "code",
   "execution_count": null,
   "id": "b7019d29",
   "metadata": {
    "scrolled": true
   },
   "outputs": [],
   "source": [
    "env.reset()"
   ]
  },
  {
   "cell_type": "code",
   "execution_count": null,
   "id": "5cd823ec",
   "metadata": {},
   "outputs": [],
   "source": [
    "env.action_space"
   ]
  },
  {
   "cell_type": "code",
   "execution_count": null,
   "id": "8b0cc03c",
   "metadata": {},
   "outputs": [],
   "source": [
    "env.observation_space\n",
    "#Observation_space = box\n",
    "#0 - 255: value range\n",
    "#210 - height\n",
    "#160 - 3\n",
    "#3 - image based model"
   ]
  },
  {
   "cell_type": "code",
   "execution_count": null,
   "id": "52169f2d",
   "metadata": {},
   "outputs": [],
   "source": [
    "#Testing the environment\n",
    "episodes = 5\n",
    "for episode in range(1, episodes+1):\n",
    "    obs = env.reset()\n",
    "    done = False\n",
    "    score = 0 \n",
    "    \n",
    "    while not done:\n",
    "        env.render()\n",
    "        action = env.action_space.sample()\n",
    "        obs, reward, done, truncated, info = env.step(action)\n",
    "        score+=reward\n",
    "    print('Episode:{} Score:{}'.format(episode, score))\n",
    "env.close()"
   ]
  },
  {
   "cell_type": "markdown",
   "id": "b9dcedfa",
   "metadata": {},
   "source": [
    "### VECTORISE ENVIRONMENT AND TRAIN MODEL"
   ]
  },
  {
   "cell_type": "code",
   "execution_count": null,
   "id": "da419687",
   "metadata": {},
   "outputs": [],
   "source": [
    "# 'make_atari_env' allows us to create wrapped atari environments\n",
    "# 'n_envs' makes 4 environments\n",
    "#' seed' - Reproducable reports\n",
    "env = make_atari_env('ALE/Breakout-v5', n_envs = 4, seed = 0)\n",
    "\n",
    "#'n_stacks' stacks the environmnets together\n",
    "env = VecFrameStack(env, n_stack = 4)"
   ]
  },
  {
   "cell_type": "code",
   "execution_count": null,
   "id": "3ae692da",
   "metadata": {
    "scrolled": true
   },
   "outputs": [],
   "source": [
    "env.reset()"
   ]
  },
  {
   "cell_type": "code",
   "execution_count": null,
   "id": "9e567910",
   "metadata": {},
   "outputs": [],
   "source": [
    "env.render(\"human\")"
   ]
  },
  {
   "cell_type": "code",
   "execution_count": null,
   "id": "4bdb5469",
   "metadata": {},
   "outputs": [],
   "source": [
    "#Setting up log path\n",
    "log_path = os.path.join('Training', 'Logs')\n",
    "\n",
    "#Uses Convoultional Neural Network rather than a multiperceptron\n",
    "model = A2C('CnnPolicy', env, verbose = 1, tensorboard_log = log_path)"
   ]
  },
  {
   "cell_type": "code",
   "execution_count": null,
   "id": "9860e83e",
   "metadata": {
    "scrolled": true
   },
   "outputs": [],
   "source": [
    "#Training\n",
    "model.learn(total_timesteps = 100000) "
   ]
  },
  {
   "cell_type": "markdown",
   "id": "5397e13f",
   "metadata": {},
   "source": [
    "### SAVE AND RELOAD MODEL"
   ]
  },
  {
   "cell_type": "code",
   "execution_count": null,
   "id": "2ecadade",
   "metadata": {},
   "outputs": [],
   "source": [
    "a2c_path = os.path.join('Training', 'Saved Models', 'A2C Vyshnav')"
   ]
  },
  {
   "cell_type": "code",
   "execution_count": null,
   "id": "cf08b1be",
   "metadata": {},
   "outputs": [],
   "source": [
    "model.save(a2c_path)"
   ]
  },
  {
   "cell_type": "code",
   "execution_count": null,
   "id": "96d52274",
   "metadata": {},
   "outputs": [],
   "source": [
    "del model"
   ]
  },
  {
   "cell_type": "code",
   "execution_count": null,
   "id": "919160cc",
   "metadata": {},
   "outputs": [],
   "source": [
    "model = A2C.load(a2c_path, env)"
   ]
  },
  {
   "cell_type": "markdown",
   "id": "b218b05c",
   "metadata": {},
   "source": [
    "### EVALUVATE AND TEST"
   ]
  },
  {
   "cell_type": "code",
   "execution_count": null,
   "id": "df568f88",
   "metadata": {},
   "outputs": [],
   "source": [
    "#Recreating env\n",
    "env = make_atari_env('ALE/Breakout-v5', n_envs = 1, seed = 0)\n",
    "\n",
    "#'n_stacks' stacks the environmnets together\n",
    "env = VecFrameStack(env, n_stack = 4)"
   ]
  },
  {
   "cell_type": "code",
   "execution_count": null,
   "id": "f6d7f34d",
   "metadata": {},
   "outputs": [],
   "source": [
    "evaluate_policy(model, env, n_eval_episodes = 10, render = True)"
   ]
  },
  {
   "cell_type": "code",
   "execution_count": null,
   "id": "6a8963f0",
   "metadata": {},
   "outputs": [],
   "source": [
    "obs = env.reset()\n",
    "while True:\n",
    "    action, _states = model.predict(obs)\n",
    "    obs, rewards, dones, info = env.step(action)\n",
    "    env.render(\"human\")\n",
    "# model playing the game (breakout ball)"
   ]
  }
 ],
 "metadata": {
  "kernelspec": {
   "display_name": "Python 3 (ipykernel)",
   "language": "python",
   "name": "python3"
  },
  "language_info": {
   "codemirror_mode": {
    "name": "ipython",
    "version": 3
   },
   "file_extension": ".py",
   "mimetype": "text/x-python",
   "name": "python",
   "nbconvert_exporter": "python",
   "pygments_lexer": "ipython3",
   "version": "3.11.3"
  }
 },
 "nbformat": 4,
 "nbformat_minor": 5
}
